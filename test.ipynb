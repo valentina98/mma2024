{
 "cells": [
  {
   "cell_type": "code",
   "execution_count": 1,
   "metadata": {},
   "outputs": [
    {
     "data": {
      "text/plain": [
       "'   price  area  bedrooms  bathrooms  stories mainroad guestroom basement hotwaterheating airconditioning  parking prefarea furnishingstatus\\n13300000  7420         4          2        3      yes        no       no              no             yes        2      yes        furnished\\n12250000  8960         4          4        4      yes        no       no              no             yes        3       no        furnished'"
      ]
     },
     "execution_count": 1,
     "metadata": {},
     "output_type": "execute_result"
    }
   ],
   "source": [
    "#import the csv file\n",
    "import pandas as pd\n",
    "file_path = r'C:/Users/esrio_0v2bwuf/Desktop/Master_AI/Multi_Media_Analytics/mma2024/dataset/ourdata/Housing.csv'\n",
    "df = pd.read_csv(file_path)\n",
    "df.head(2).to_string(index=False)\n",
    "\n"
   ]
  },
  {
   "cell_type": "code",
   "execution_count": null,
   "metadata": {},
   "outputs": [],
   "source": [
    "# create pandas dataframe and a plot from the Housing.csv file\n",
    "import pandas as pd\n",
    "import matplotlib.pyplot as plt\n",
    "\n",
    "#You are an AI that strictly conforms to responses in Python code. \n",
    "# Your responses consist of valid python syntax, with no other comments, explainations, reasoning, or dialogue not consisting of valid python.\n",
    "# The definition for your response schema will be included between these strings: [#response] [code]\n",
    "# Create a scatter plot showing the relationship between house prices and square footage. Provide only Python code, do not give any reaction other than the code itself, no yapping, no certainly, no nothing like strings, only the code\n",
    "df = pd.read_csv('Housing.csv')\n",
    "plt.scatter(df['area'], df['price'])\n",
    "plt.xlabel('Area')\n",
    "plt.ylabel('Price')\n",
    "plt.show()\n",
    "\n"
   ]
  },
  {
   "cell_type": "code",
   "execution_count": null,
   "metadata": {},
   "outputs": [],
   "source": [
    "import pandas as pd\n",
    "plt.scatter(df['area'], df['price'])\n",
    "plt.xlabel('Area')\n",
    "plt.ylabel('Price')\n",
    "plt.show()"
   ]
  },
  {
   "cell_type": "code",
   "execution_count": 10,
   "metadata": {},
   "outputs": [
    {
     "data": {
      "image/png": "[encoded data removed]",
      "text/plain": [
       "<Figure size 640x480 with 1 Axes>"
      ]
     },
     "metadata": {},
     "output_type": "display_data"
    },
    {
     "data": {
      "image/png": "[encoded data removed]",
      "text/plain": [
       "<Figure size 640x480 with 1 Axes>"
      ]
     },
     "metadata": {},
     "output_type": "display_data"
    }
   ],
   "source": [
    "import matplotlib.pyplot as plt\n",
    "\n",
    "def plot_initial(prompt, suggestion1, suggestion2, suggestion3):\n",
    "    fig, ax = plt.subplots()\n",
    "    \n",
    "    # Plot initial prompt and suggestions as single horizontal lines\n",
    "    ax.hlines(y=prompt, xmin=-0.25, xmax=0.25, color='maroon', lw=6)\n",
    "    ax.hlines(y=suggestion1, xmin=0.75, xmax=1.25, color='yellow', lw=6)\n",
    "    ax.hlines(y=suggestion2, xmin=1.75, xmax=2.25, color='pink', lw=6)\n",
    "    ax.hlines(y=suggestion3, xmin=2.75, xmax=3.25, color='blue', lw=6)\n",
    "    \n",
    "    # Labels and limits for the initial plot\n",
    "    ax.set_xticks(range(4))\n",
    "    ax.set_xticklabels(['Prompt', 'Suggestion 1', 'Suggestion 2', 'Suggestion 3'])\n",
    "    ax.set_xlim(-0.5, 3.5)\n",
    "    \n",
    "    # Show initial plot\n",
    "    plt.show()\n",
    "\n",
    "def plot_collapsed(prompt, suggestion1, suggestion2, suggestion3, selected_suggestion):\n",
    "    fig, ax = plt.subplots()\n",
    "    \n",
    "    initial_prompt_relevance = prompt\n",
    "    selected_suggestion_relevance = selected_suggestion\n",
    "    low = min(suggestion1, suggestion2, suggestion3)\n",
    "    high = max(suggestion1, suggestion2, suggestion3)\n",
    "    \n",
    "    # Determine the color based on the comparison\n",
    "    color = 'green' if selected_suggestion_relevance > initial_prompt_relevance else 'red'\n",
    "    \n",
    "    # Plot high and low as vertical line\n",
    "    ax.vlines(x=0.5, ymin=low, ymax=high, color=color, lw=6)\n",
    "    \n",
    "    # Plot horizontal line from initial prompt to selected suggestion\n",
    "    ax.hlines(y=initial_prompt_relevance, xmin=-0.25, xmax=0.5, color=color, lw=6)\n",
    "    ax.hlines(y=selected_suggestion_relevance, xmin=0.5, xmax=1.25, color=color, lw=6)\n",
    "    \n",
    "    # Plot closing line to the right side of the vertical stripe at the height of the highest score\n",
    "    ax.hlines(y=high, xmin=0.5, xmax=1.25, color=color, lw=6)\n",
    "    \n",
    "    # Update labels and limits for the collapsed plot\n",
    "    ax.set_xticks([0.5])\n",
    "    ax.set_xticklabels(['Prompt'])\n",
    "    ax.set_xlim(-0.5, 1.5)\n",
    "    \n",
    "    # Show collapsed plot\n",
    "    plt.show()\n",
    "\n",
    "# Example usage\n",
    "prompt = 0.7\n",
    "suggestion1 = 0.5\n",
    "suggestion2 = 0.6\n",
    "suggestion3 = 0.9\n",
    "selected_suggestion = 0.9  # You can change this to the selected suggestion\n",
    "\n",
    "# Plot initial moment\n",
    "plot_initial(prompt, suggestion1, suggestion2, suggestion3)\n",
    "\n",
    "# Plot collapsed moment\n",
    "plot_collapsed(prompt, suggestion1, suggestion2, suggestion3, selected_suggestion)\n"
   ]
  },
  {
   "cell_type": "markdown",
   "metadata": {},
   "source": [
    "# vraag of die dat linker ding links kan zetten bij prompt en suggestions 1 2 en 3 in de x-as kan hebben.\n",
    "# vervolgens vraag je om weer opnieuw streepjes te zetten bij suggestions 1 2 en 3 en weer de tweede oude plot te maken van 1 zo'n ding\n",
    "# dan vraag je om weer dat linker ding in prompt te zetten maar dan prompt 2 te zetten en bij de eerste prompt 1\n",
    "# dit moet dan een script/ functies worden om dat recept te herhalen in een keer als er nieuwe getallen in worden gevoerd. "
   ]
  }
 ],
 "metadata": {
  "kernelspec": {
   "display_name": ".venv",
   "language": "python",
   "name": "python3"
  },
  "language_info": {
   "codemirror_mode": {
    "name": "ipython",
    "version": 3
   },
   "file_extension": ".py",
   "mimetype": "text/x-python",
   "name": "python",
   "nbconvert_exporter": "python",
   "pygments_lexer": "ipython3",
   "version": "3.12.0"
  }
 },
 "nbformat": 4,
 "nbformat_minor": 2
}
